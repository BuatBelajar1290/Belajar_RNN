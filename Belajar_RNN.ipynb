{
  "nbformat": 4,
  "nbformat_minor": 0,
  "metadata": {
    "colab": {
      "provenance": []
    },
    "kernelspec": {
      "name": "python3",
      "display_name": "Python 3"
    },
    "language_info": {
      "name": "python"
    }
  },
  "cells": [
    {
      "cell_type": "code",
      "source": [
        "# untuk menyambungkan ke Gdrive (opsional)\n",
        "from google.colab import drive\n",
        "drive.mount('/content/drive')"
      ],
      "metadata": {
        "id": "z6Q6o9TjuYDo",
        "colab": {
          "base_uri": "https://localhost:8080/"
        },
        "outputId": "6894a623-7628-4175-f0c6-df55fb758f17"
      },
      "execution_count": null,
      "outputs": [
        {
          "output_type": "stream",
          "name": "stdout",
          "text": [
            "Drive already mounted at /content/drive; to attempt to forcibly remount, call drive.mount(\"/content/drive\", force_remount=True).\n"
          ]
        }
      ]
    },
    {
      "cell_type": "code",
      "execution_count": null,
      "metadata": {
        "id": "ddZrLRNxfRjw"
      },
      "outputs": [],
      "source": [
        "# Import Library\n",
        "import numpy as np\n",
        "import matplotlib.pyplot as plt\n",
        "import pandas as pd"
      ]
    },
    {
      "cell_type": "code",
      "source": [
        "# import Training Set\n",
        "dataset_train = pd.read_csv('Google_Stock_Price_Train.csv')\n",
        "training_set = dataset_train.iloc[:, 1:2].values"
      ],
      "metadata": {
        "id": "dw8yorCWf3Dp"
      },
      "execution_count": 6,
      "outputs": []
    },
    {
      "cell_type": "code",
      "source": [
        "# Feature Scalling\n",
        "from sklearn.preprocessing import MinMaxScaler\n",
        "sc = MinMaxScaler(feature_range= (0, 1))\n",
        "training_set_scaled = sc.fit_transform(training_set)"
      ],
      "metadata": {
        "id": "u_1XJmKqg10n"
      },
      "execution_count": 7,
      "outputs": []
    },
    {
      "cell_type": "code",
      "source": [
        "# Creating a Data Structure With 60 Timesteps and 1 Output\n",
        "X_train = []\n",
        "y_train = []\n",
        "for i in range(60, 1258):\n",
        "    X_train.append(training_set_scaled[i-60:i, 0])\n",
        "    y_train.append(training_set_scaled[i, 0])\n",
        "X_train, y_train = np.array(X_train), np.array(y_train)\n",
        "\n",
        "X_train = np.reshape(X_train, (X_train.shape[0], X_train.shape[1], 1))"
      ],
      "metadata": {
        "id": "_NDezAFfoDHE"
      },
      "execution_count": 8,
      "outputs": []
    },
    {
      "cell_type": "code",
      "source": [
        "# Import Keras Library dan Packagenya\n",
        "from keras.models import Sequential\n",
        "from keras.layers import Dense\n",
        "from keras.layers import LSTM\n",
        "from keras.layers import Dropout"
      ],
      "metadata": {
        "id": "Wwecp9dbonvL"
      },
      "execution_count": 25,
      "outputs": []
    },
    {
      "cell_type": "code",
      "source": [
        "# Inisiasi The RNN\n",
        "regresor = Sequential()"
      ],
      "metadata": {
        "id": "gz8qheRCopBU"
      },
      "execution_count": 10,
      "outputs": []
    },
    {
      "cell_type": "code",
      "source": [
        "# Add First LSTM layer and some Dropout Regularisation\n",
        "regresor.add(LSTM(units = 50, return_sequences = True, input_shape = (X_train.shape[1], 1)))\n",
        "regresor.add(Dropout(0.2))"
      ],
      "metadata": {
        "id": "lP6AUGyOosBt"
      },
      "execution_count": 11,
      "outputs": []
    },
    {
      "cell_type": "code",
      "source": [
        "# Add Second LSTM layer and some Dropout Regularisation\n",
        "regresor.add(LSTM(units = 50, return_sequences = True))\n",
        "regresor.add(Dropout(0.2))"
      ],
      "metadata": {
        "id": "e98HGAGXotTS"
      },
      "execution_count": 12,
      "outputs": []
    },
    {
      "cell_type": "code",
      "source": [
        "# Add Third LSTM layer and some Dropout Regularisation\n",
        "regresor.add(LSTM(units = 50, return_sequences = True))\n",
        "regresor.add(Dropout(0.2))"
      ],
      "metadata": {
        "id": "Y6pNHHRJovs2"
      },
      "execution_count": 13,
      "outputs": []
    },
    {
      "cell_type": "code",
      "source": [
        "# Add Four LSTM layer and some Dropout Regularisation\n",
        "regresor.add(LSTM(units = 50))\n",
        "regresor.add(Dropout(0.2))"
      ],
      "metadata": {
        "id": "zEEWKCFCox-b"
      },
      "execution_count": 14,
      "outputs": []
    },
    {
      "cell_type": "code",
      "source": [
        "# Adding The Output Layer\n",
        "regresor.add(Dense(units = 1))"
      ],
      "metadata": {
        "id": "4uMKuvK0oyc9"
      },
      "execution_count": 15,
      "outputs": []
    },
    {
      "cell_type": "code",
      "source": [
        "# Training Dataset\n",
        "dataset_train"
      ],
      "metadata": {
        "colab": {
          "base_uri": "https://localhost:8080/",
          "height": 424
        },
        "id": "EWyhOKevr-UI",
        "outputId": "cc02c304-2237-4def-9594-f74602cd0205"
      },
      "execution_count": 16,
      "outputs": [
        {
          "output_type": "execute_result",
          "data": {
            "text/plain": [
              "            Date    Open    High     Low   Close      Volume\n",
              "0       1/3/2012  325.25  332.83  324.97  663.59   7,380,500\n",
              "1       1/4/2012  331.27  333.87  329.08  666.45   5,749,400\n",
              "2       1/5/2012  329.83  330.75  326.89  657.21   6,590,300\n",
              "3       1/6/2012  328.34  328.77  323.68  648.24   5,405,900\n",
              "4       1/9/2012  322.04  322.29  309.46  620.76  11,688,800\n",
              "...          ...     ...     ...     ...     ...         ...\n",
              "1253  12/23/2016  790.90  792.74  787.28  789.91     623,400\n",
              "1254  12/27/2016  790.68  797.86  787.66  791.55     789,100\n",
              "1255  12/28/2016  793.70  794.23  783.20  785.05   1,153,800\n",
              "1256  12/29/2016  783.33  785.93  778.92  782.79     744,300\n",
              "1257  12/30/2016  782.75  782.78  770.41  771.82   1,770,000\n",
              "\n",
              "[1258 rows x 6 columns]"
            ],
            "text/html": [
              "\n",
              "  <div id=\"df-4324906e-b21d-4ffc-8f70-f013f2eae703\">\n",
              "    <div class=\"colab-df-container\">\n",
              "      <div>\n",
              "<style scoped>\n",
              "    .dataframe tbody tr th:only-of-type {\n",
              "        vertical-align: middle;\n",
              "    }\n",
              "\n",
              "    .dataframe tbody tr th {\n",
              "        vertical-align: top;\n",
              "    }\n",
              "\n",
              "    .dataframe thead th {\n",
              "        text-align: right;\n",
              "    }\n",
              "</style>\n",
              "<table border=\"1\" class=\"dataframe\">\n",
              "  <thead>\n",
              "    <tr style=\"text-align: right;\">\n",
              "      <th></th>\n",
              "      <th>Date</th>\n",
              "      <th>Open</th>\n",
              "      <th>High</th>\n",
              "      <th>Low</th>\n",
              "      <th>Close</th>\n",
              "      <th>Volume</th>\n",
              "    </tr>\n",
              "  </thead>\n",
              "  <tbody>\n",
              "    <tr>\n",
              "      <th>0</th>\n",
              "      <td>1/3/2012</td>\n",
              "      <td>325.25</td>\n",
              "      <td>332.83</td>\n",
              "      <td>324.97</td>\n",
              "      <td>663.59</td>\n",
              "      <td>7,380,500</td>\n",
              "    </tr>\n",
              "    <tr>\n",
              "      <th>1</th>\n",
              "      <td>1/4/2012</td>\n",
              "      <td>331.27</td>\n",
              "      <td>333.87</td>\n",
              "      <td>329.08</td>\n",
              "      <td>666.45</td>\n",
              "      <td>5,749,400</td>\n",
              "    </tr>\n",
              "    <tr>\n",
              "      <th>2</th>\n",
              "      <td>1/5/2012</td>\n",
              "      <td>329.83</td>\n",
              "      <td>330.75</td>\n",
              "      <td>326.89</td>\n",
              "      <td>657.21</td>\n",
              "      <td>6,590,300</td>\n",
              "    </tr>\n",
              "    <tr>\n",
              "      <th>3</th>\n",
              "      <td>1/6/2012</td>\n",
              "      <td>328.34</td>\n",
              "      <td>328.77</td>\n",
              "      <td>323.68</td>\n",
              "      <td>648.24</td>\n",
              "      <td>5,405,900</td>\n",
              "    </tr>\n",
              "    <tr>\n",
              "      <th>4</th>\n",
              "      <td>1/9/2012</td>\n",
              "      <td>322.04</td>\n",
              "      <td>322.29</td>\n",
              "      <td>309.46</td>\n",
              "      <td>620.76</td>\n",
              "      <td>11,688,800</td>\n",
              "    </tr>\n",
              "    <tr>\n",
              "      <th>...</th>\n",
              "      <td>...</td>\n",
              "      <td>...</td>\n",
              "      <td>...</td>\n",
              "      <td>...</td>\n",
              "      <td>...</td>\n",
              "      <td>...</td>\n",
              "    </tr>\n",
              "    <tr>\n",
              "      <th>1253</th>\n",
              "      <td>12/23/2016</td>\n",
              "      <td>790.90</td>\n",
              "      <td>792.74</td>\n",
              "      <td>787.28</td>\n",
              "      <td>789.91</td>\n",
              "      <td>623,400</td>\n",
              "    </tr>\n",
              "    <tr>\n",
              "      <th>1254</th>\n",
              "      <td>12/27/2016</td>\n",
              "      <td>790.68</td>\n",
              "      <td>797.86</td>\n",
              "      <td>787.66</td>\n",
              "      <td>791.55</td>\n",
              "      <td>789,100</td>\n",
              "    </tr>\n",
              "    <tr>\n",
              "      <th>1255</th>\n",
              "      <td>12/28/2016</td>\n",
              "      <td>793.70</td>\n",
              "      <td>794.23</td>\n",
              "      <td>783.20</td>\n",
              "      <td>785.05</td>\n",
              "      <td>1,153,800</td>\n",
              "    </tr>\n",
              "    <tr>\n",
              "      <th>1256</th>\n",
              "      <td>12/29/2016</td>\n",
              "      <td>783.33</td>\n",
              "      <td>785.93</td>\n",
              "      <td>778.92</td>\n",
              "      <td>782.79</td>\n",
              "      <td>744,300</td>\n",
              "    </tr>\n",
              "    <tr>\n",
              "      <th>1257</th>\n",
              "      <td>12/30/2016</td>\n",
              "      <td>782.75</td>\n",
              "      <td>782.78</td>\n",
              "      <td>770.41</td>\n",
              "      <td>771.82</td>\n",
              "      <td>1,770,000</td>\n",
              "    </tr>\n",
              "  </tbody>\n",
              "</table>\n",
              "<p>1258 rows × 6 columns</p>\n",
              "</div>\n",
              "      <button class=\"colab-df-convert\" onclick=\"convertToInteractive('df-4324906e-b21d-4ffc-8f70-f013f2eae703')\"\n",
              "              title=\"Convert this dataframe to an interactive table.\"\n",
              "              style=\"display:none;\">\n",
              "        \n",
              "  <svg xmlns=\"http://www.w3.org/2000/svg\" height=\"24px\"viewBox=\"0 0 24 24\"\n",
              "       width=\"24px\">\n",
              "    <path d=\"M0 0h24v24H0V0z\" fill=\"none\"/>\n",
              "    <path d=\"M18.56 5.44l.94 2.06.94-2.06 2.06-.94-2.06-.94-.94-2.06-.94 2.06-2.06.94zm-11 1L8.5 8.5l.94-2.06 2.06-.94-2.06-.94L8.5 2.5l-.94 2.06-2.06.94zm10 10l.94 2.06.94-2.06 2.06-.94-2.06-.94-.94-2.06-.94 2.06-2.06.94z\"/><path d=\"M17.41 7.96l-1.37-1.37c-.4-.4-.92-.59-1.43-.59-.52 0-1.04.2-1.43.59L10.3 9.45l-7.72 7.72c-.78.78-.78 2.05 0 2.83L4 21.41c.39.39.9.59 1.41.59.51 0 1.02-.2 1.41-.59l7.78-7.78 2.81-2.81c.8-.78.8-2.07 0-2.86zM5.41 20L4 18.59l7.72-7.72 1.47 1.35L5.41 20z\"/>\n",
              "  </svg>\n",
              "      </button>\n",
              "      \n",
              "  <style>\n",
              "    .colab-df-container {\n",
              "      display:flex;\n",
              "      flex-wrap:wrap;\n",
              "      gap: 12px;\n",
              "    }\n",
              "\n",
              "    .colab-df-convert {\n",
              "      background-color: #E8F0FE;\n",
              "      border: none;\n",
              "      border-radius: 50%;\n",
              "      cursor: pointer;\n",
              "      display: none;\n",
              "      fill: #1967D2;\n",
              "      height: 32px;\n",
              "      padding: 0 0 0 0;\n",
              "      width: 32px;\n",
              "    }\n",
              "\n",
              "    .colab-df-convert:hover {\n",
              "      background-color: #E2EBFA;\n",
              "      box-shadow: 0px 1px 2px rgba(60, 64, 67, 0.3), 0px 1px 3px 1px rgba(60, 64, 67, 0.15);\n",
              "      fill: #174EA6;\n",
              "    }\n",
              "\n",
              "    [theme=dark] .colab-df-convert {\n",
              "      background-color: #3B4455;\n",
              "      fill: #D2E3FC;\n",
              "    }\n",
              "\n",
              "    [theme=dark] .colab-df-convert:hover {\n",
              "      background-color: #434B5C;\n",
              "      box-shadow: 0px 1px 3px 1px rgba(0, 0, 0, 0.15);\n",
              "      filter: drop-shadow(0px 1px 2px rgba(0, 0, 0, 0.3));\n",
              "      fill: #FFFFFF;\n",
              "    }\n",
              "  </style>\n",
              "\n",
              "      <script>\n",
              "        const buttonEl =\n",
              "          document.querySelector('#df-4324906e-b21d-4ffc-8f70-f013f2eae703 button.colab-df-convert');\n",
              "        buttonEl.style.display =\n",
              "          google.colab.kernel.accessAllowed ? 'block' : 'none';\n",
              "\n",
              "        async function convertToInteractive(key) {\n",
              "          const element = document.querySelector('#df-4324906e-b21d-4ffc-8f70-f013f2eae703');\n",
              "          const dataTable =\n",
              "            await google.colab.kernel.invokeFunction('convertToInteractive',\n",
              "                                                     [key], {});\n",
              "          if (!dataTable) return;\n",
              "\n",
              "          const docLinkHtml = 'Like what you see? Visit the ' +\n",
              "            '<a target=\"_blank\" href=https://colab.research.google.com/notebooks/data_table.ipynb>data table notebook</a>'\n",
              "            + ' to learn more about interactive tables.';\n",
              "          element.innerHTML = '';\n",
              "          dataTable['output_type'] = 'display_data';\n",
              "          await google.colab.output.renderOutput(dataTable, element);\n",
              "          const docLink = document.createElement('div');\n",
              "          docLink.innerHTML = docLinkHtml;\n",
              "          element.appendChild(docLink);\n",
              "        }\n",
              "      </script>\n",
              "    </div>\n",
              "  </div>\n",
              "  "
            ]
          },
          "metadata": {},
          "execution_count": 16
        }
      ]
    },
    {
      "cell_type": "code",
      "source": [
        "# Compiling The RNN\n",
        "regresor.compile(optimizer = 'adam', loss = 'mean_squared_error')"
      ],
      "metadata": {
        "id": "_c7VenEko2XQ"
      },
      "execution_count": 17,
      "outputs": []
    },
    {
      "cell_type": "code",
      "source": [
        "# Fitting the RNN to The Training Set\n",
        "regresor.fit(X_train, y_train, epochs = 100, batch_size = 32)"
      ],
      "metadata": {
        "colab": {
          "base_uri": "https://localhost:8080/"
        },
        "id": "cU6NOKgjo8sx",
        "outputId": "7ee0e321-2e53-4b3c-a363-00b26a8f0621"
      },
      "execution_count": 26,
      "outputs": [
        {
          "output_type": "stream",
          "name": "stdout",
          "text": [
            "Epoch 1/100\n",
            "38/38 [==============================] - 6s 166ms/step - loss: 0.0013\n",
            "Epoch 2/100\n",
            "38/38 [==============================] - 7s 192ms/step - loss: 0.0014\n",
            "Epoch 3/100\n",
            "38/38 [==============================] - 6s 154ms/step - loss: 0.0013\n",
            "Epoch 4/100\n",
            "38/38 [==============================] - 10s 254ms/step - loss: 0.0014\n",
            "Epoch 5/100\n",
            "38/38 [==============================] - 6s 169ms/step - loss: 0.0014\n",
            "Epoch 6/100\n",
            "38/38 [==============================] - 8s 207ms/step - loss: 0.0013\n",
            "Epoch 7/100\n",
            "38/38 [==============================] - 5s 129ms/step - loss: 0.0014\n",
            "Epoch 8/100\n",
            "38/38 [==============================] - 7s 182ms/step - loss: 0.0013\n",
            "Epoch 9/100\n",
            "38/38 [==============================] - 5s 134ms/step - loss: 0.0013\n",
            "Epoch 10/100\n",
            "38/38 [==============================] - 7s 173ms/step - loss: 0.0013\n",
            "Epoch 11/100\n",
            "38/38 [==============================] - 7s 186ms/step - loss: 0.0013\n",
            "Epoch 12/100\n",
            "38/38 [==============================] - 5s 131ms/step - loss: 0.0012\n",
            "Epoch 13/100\n",
            "38/38 [==============================] - 7s 183ms/step - loss: 0.0015\n",
            "Epoch 14/100\n",
            "38/38 [==============================] - 5s 126ms/step - loss: 0.0013\n",
            "Epoch 15/100\n",
            "38/38 [==============================] - 6s 158ms/step - loss: 0.0012\n",
            "Epoch 16/100\n",
            "38/38 [==============================] - 6s 151ms/step - loss: 0.0012\n",
            "Epoch 17/100\n",
            "38/38 [==============================] - 5s 129ms/step - loss: 0.0013\n",
            "Epoch 18/100\n",
            "38/38 [==============================] - 7s 179ms/step - loss: 0.0013\n",
            "Epoch 19/100\n",
            "38/38 [==============================] - 5s 130ms/step - loss: 0.0014\n",
            "Epoch 20/100\n",
            "38/38 [==============================] - 5s 138ms/step - loss: 0.0013\n",
            "Epoch 21/100\n",
            "38/38 [==============================] - 6s 169ms/step - loss: 0.0012\n",
            "Epoch 22/100\n",
            "38/38 [==============================] - 5s 128ms/step - loss: 0.0014\n",
            "Epoch 23/100\n",
            "38/38 [==============================] - 7s 176ms/step - loss: 0.0014\n",
            "Epoch 24/100\n",
            "38/38 [==============================] - 5s 128ms/step - loss: 0.0014\n",
            "Epoch 25/100\n",
            "38/38 [==============================] - 5s 128ms/step - loss: 0.0012\n",
            "Epoch 26/100\n",
            "38/38 [==============================] - 7s 184ms/step - loss: 0.0012\n",
            "Epoch 27/100\n",
            "38/38 [==============================] - 5s 129ms/step - loss: 0.0012\n",
            "Epoch 28/100\n",
            "38/38 [==============================] - 6s 163ms/step - loss: 0.0012\n",
            "Epoch 29/100\n",
            "38/38 [==============================] - 6s 146ms/step - loss: 0.0012\n",
            "Epoch 30/100\n",
            "38/38 [==============================] - 5s 130ms/step - loss: 0.0012\n",
            "Epoch 31/100\n",
            "38/38 [==============================] - 7s 181ms/step - loss: 0.0014\n",
            "Epoch 32/100\n",
            "38/38 [==============================] - 5s 127ms/step - loss: 0.0011\n",
            "Epoch 33/100\n",
            "38/38 [==============================] - 5s 144ms/step - loss: 0.0011\n",
            "Epoch 34/100\n",
            "38/38 [==============================] - 6s 164ms/step - loss: 0.0012\n",
            "Epoch 35/100\n",
            "38/38 [==============================] - 5s 128ms/step - loss: 0.0011\n",
            "Epoch 36/100\n",
            "38/38 [==============================] - 7s 178ms/step - loss: 0.0012\n",
            "Epoch 37/100\n",
            "38/38 [==============================] - 5s 127ms/step - loss: 0.0012\n",
            "Epoch 38/100\n",
            "38/38 [==============================] - 5s 129ms/step - loss: 0.0012\n",
            "Epoch 39/100\n",
            "38/38 [==============================] - 7s 179ms/step - loss: 0.0011\n",
            "Epoch 40/100\n",
            "38/38 [==============================] - 5s 127ms/step - loss: 0.0011\n",
            "Epoch 41/100\n",
            "38/38 [==============================] - 6s 167ms/step - loss: 0.0012\n",
            "Epoch 42/100\n",
            "38/38 [==============================] - 5s 140ms/step - loss: 0.0010\n",
            "Epoch 43/100\n",
            "38/38 [==============================] - 5s 129ms/step - loss: 0.0010\n",
            "Epoch 44/100\n",
            "38/38 [==============================] - 7s 180ms/step - loss: 0.0012\n",
            "Epoch 45/100\n",
            "38/38 [==============================] - 5s 129ms/step - loss: 0.0011\n",
            "Epoch 46/100\n",
            "38/38 [==============================] - 6s 150ms/step - loss: 0.0010\n",
            "Epoch 47/100\n",
            "38/38 [==============================] - 6s 158ms/step - loss: 0.0010\n",
            "Epoch 48/100\n",
            "38/38 [==============================] - 5s 129ms/step - loss: 0.0013\n",
            "Epoch 49/100\n",
            "38/38 [==============================] - 7s 181ms/step - loss: 0.0011\n",
            "Epoch 50/100\n",
            "38/38 [==============================] - 5s 127ms/step - loss: 0.0011\n",
            "Epoch 51/100\n",
            "38/38 [==============================] - 5s 128ms/step - loss: 0.0011\n",
            "Epoch 52/100\n",
            "38/38 [==============================] - 7s 175ms/step - loss: 0.0011\n",
            "Epoch 53/100\n",
            "38/38 [==============================] - 5s 129ms/step - loss: 0.0010\n",
            "Epoch 54/100\n",
            "38/38 [==============================] - 6s 168ms/step - loss: 0.0011\n",
            "Epoch 55/100\n",
            "38/38 [==============================] - 5s 137ms/step - loss: 0.0011\n",
            "Epoch 56/100\n",
            "38/38 [==============================] - 5s 128ms/step - loss: 0.0011\n",
            "Epoch 57/100\n",
            "38/38 [==============================] - 7s 179ms/step - loss: 0.0010\n",
            "Epoch 58/100\n",
            "38/38 [==============================] - 5s 131ms/step - loss: 0.0010\n",
            "Epoch 59/100\n",
            "38/38 [==============================] - 6s 149ms/step - loss: 0.0011\n",
            "Epoch 60/100\n",
            "38/38 [==============================] - 6s 156ms/step - loss: 0.0012\n",
            "Epoch 61/100\n",
            "38/38 [==============================] - 5s 127ms/step - loss: 0.0011\n",
            "Epoch 62/100\n",
            "38/38 [==============================] - 7s 180ms/step - loss: 0.0011\n",
            "Epoch 63/100\n",
            "38/38 [==============================] - 5s 127ms/step - loss: 0.0011\n",
            "Epoch 64/100\n",
            "38/38 [==============================] - 5s 133ms/step - loss: 0.0013\n",
            "Epoch 65/100\n",
            "38/38 [==============================] - 7s 177ms/step - loss: 0.0012\n",
            "Epoch 66/100\n",
            "38/38 [==============================] - 5s 126ms/step - loss: 0.0012\n",
            "Epoch 67/100\n",
            "38/38 [==============================] - 6s 169ms/step - loss: 9.9983e-04\n",
            "Epoch 68/100\n",
            "38/38 [==============================] - 5s 132ms/step - loss: 9.8044e-04\n",
            "Epoch 69/100\n",
            "38/38 [==============================] - 5s 127ms/step - loss: 9.7750e-04\n",
            "Epoch 70/100\n",
            "38/38 [==============================] - 7s 179ms/step - loss: 0.0011\n",
            "Epoch 71/100\n",
            "38/38 [==============================] - 5s 128ms/step - loss: 9.4191e-04\n",
            "Epoch 72/100\n",
            "38/38 [==============================] - 6s 146ms/step - loss: 0.0010\n",
            "Epoch 73/100\n",
            "38/38 [==============================] - 6s 156ms/step - loss: 0.0013\n",
            "Epoch 74/100\n",
            "38/38 [==============================] - 5s 125ms/step - loss: 0.0011\n",
            "Epoch 75/100\n",
            "38/38 [==============================] - 7s 180ms/step - loss: 9.7222e-04\n",
            "Epoch 76/100\n",
            "38/38 [==============================] - 5s 127ms/step - loss: 9.9405e-04\n",
            "Epoch 77/100\n",
            "38/38 [==============================] - 5s 126ms/step - loss: 0.0011\n",
            "Epoch 78/100\n",
            "38/38 [==============================] - 7s 179ms/step - loss: 0.0010\n",
            "Epoch 79/100\n",
            "38/38 [==============================] - 5s 126ms/step - loss: 0.0012\n",
            "Epoch 80/100\n",
            "38/38 [==============================] - 8s 216ms/step - loss: 0.0012\n",
            "Epoch 81/100\n",
            "38/38 [==============================] - 8s 195ms/step - loss: 0.0012\n",
            "Epoch 82/100\n",
            "38/38 [==============================] - 9s 230ms/step - loss: 9.6309e-04\n",
            "Epoch 83/100\n",
            "38/38 [==============================] - 7s 181ms/step - loss: 0.0011\n",
            "Epoch 84/100\n",
            "38/38 [==============================] - 9s 228ms/step - loss: 0.0011\n",
            "Epoch 85/100\n",
            "38/38 [==============================] - 6s 170ms/step - loss: 9.7842e-04\n",
            "Epoch 86/100\n",
            "38/38 [==============================] - 8s 225ms/step - loss: 0.0010\n",
            "Epoch 87/100\n",
            "38/38 [==============================] - 5s 127ms/step - loss: 0.0010\n",
            "Epoch 88/100\n",
            "38/38 [==============================] - 10s 251ms/step - loss: 0.0011\n",
            "Epoch 89/100\n",
            "38/38 [==============================] - 6s 159ms/step - loss: 0.0010\n",
            "Epoch 90/100\n",
            "38/38 [==============================] - 7s 191ms/step - loss: 0.0011\n",
            "Epoch 91/100\n",
            "38/38 [==============================] - 5s 125ms/step - loss: 0.0011\n",
            "Epoch 92/100\n",
            "38/38 [==============================] - 5s 127ms/step - loss: 0.0011\n",
            "Epoch 93/100\n",
            "38/38 [==============================] - 7s 181ms/step - loss: 0.0012\n",
            "Epoch 94/100\n",
            "38/38 [==============================] - 9s 231ms/step - loss: 0.0010\n",
            "Epoch 95/100\n",
            "38/38 [==============================] - 9s 223ms/step - loss: 0.0011\n",
            "Epoch 96/100\n",
            "38/38 [==============================] - 8s 221ms/step - loss: 9.3678e-04\n",
            "Epoch 97/100\n",
            "38/38 [==============================] - 6s 146ms/step - loss: 9.0119e-04\n",
            "Epoch 98/100\n",
            "38/38 [==============================] - 5s 125ms/step - loss: 0.0011\n",
            "Epoch 99/100\n",
            "38/38 [==============================] - 7s 178ms/step - loss: 0.0012\n",
            "Epoch 100/100\n",
            "38/38 [==============================] - 5s 125ms/step - loss: 9.5264e-04\n"
          ]
        },
        {
          "output_type": "execute_result",
          "data": {
            "text/plain": [
              "<keras.callbacks.History at 0x7f59abb723b0>"
            ]
          },
          "metadata": {},
          "execution_count": 26
        }
      ]
    },
    {
      "cell_type": "code",
      "source": [
        "# Getting Real Stock Price Of 2017\n",
        "dataset_test = pd.read_csv('Google_Stock_Price_Test.csv')\n",
        "real_stock_price = dataset_test.iloc[:, 1:2].values"
      ],
      "metadata": {
        "id": "jfQTS_EYpJC4"
      },
      "execution_count": 19,
      "outputs": []
    },
    {
      "cell_type": "code",
      "source": [
        "# Getting The Predicted Stock Price Of 2017\n",
        "dataset_total = pd.concat((dataset_train['Open'], dataset_test['Open']), axis = 0)\n",
        "inputs = dataset_total[len(dataset_total) - len(dataset_test) - 60:].values\n",
        "inputs = inputs.reshape(-1,1)\n",
        "inputs = sc.transform(inputs)\n",
        "X_test = []\n",
        "for i in range(60,80):\n",
        "  X_test.append(inputs[i-60:i, 0])\n",
        "X_test = np.array(X_test)\n",
        "X_test = np.reshape(X_test, (X_test.shape[0], X_test.shape[1], 1))\n",
        "predicted_stock_price = regresor.predict(X_test)\n",
        "predicted_stock_price = sc.inverse_transform(predicted_stock_price)"
      ],
      "metadata": {
        "colab": {
          "base_uri": "https://localhost:8080/"
        },
        "id": "6Z9neiq3qbuQ",
        "outputId": "0a6a799d-69b6-4039-aca6-c2f724c2dc6f"
      },
      "execution_count": 21,
      "outputs": [
        {
          "output_type": "stream",
          "name": "stdout",
          "text": [
            "1/1 [==============================] - 2s 2s/step\n"
          ]
        }
      ]
    },
    {
      "cell_type": "code",
      "source": [
        "# Visualising the result\n",
        "plt.plot(real_stock_price, color = 'red', label = 'Real Google Stock Price')\n",
        "plt.plot(predicted_stock_price, color = 'blue', label = 'Predicted Google Stock Price')\n",
        "plt.title('Google Stock Price Prediction')\n",
        "plt.xlabel('Time')\n",
        "plt.ylabel('Google Stock Price')\n",
        "plt.legend()\n",
        "plt.show()"
      ],
      "metadata": {
        "colab": {
          "base_uri": "https://localhost:8080/",
          "height": 472
        },
        "id": "bs_Jw_cI3Brm",
        "outputId": "7c80f8c8-1aa7-412c-de02-b7cf2329bbec"
      },
      "execution_count": 23,
      "outputs": [
        {
          "output_type": "display_data",
          "data": {
            "text/plain": [
              "<Figure size 640x480 with 1 Axes>"
            ],
            "image/png": "[encoded data removed]"
          },
          "metadata": {}
        }
      ]
    }
  ]
}